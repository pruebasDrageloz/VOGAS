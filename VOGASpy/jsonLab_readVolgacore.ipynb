{
 "metadata": {
  "language_info": {
   "codemirror_mode": {
    "name": "ipython",
    "version": 3
   },
   "file_extension": ".py",
   "mimetype": "text/x-python",
   "name": "python",
   "nbconvert_exporter": "python",
   "pygments_lexer": "ipython3",
   "version": "3.8.5-final"
  },
  "orig_nbformat": 2,
  "kernelspec": {
   "name": "python_defaultSpec_1598404889087",
   "display_name": "Python 3.8.5 32-bit ('VOGASenv': venv)"
  }
 },
 "nbformat": 4,
 "nbformat_minor": 2,
 "cells": [
  {
   "cell_type": "code",
   "execution_count": 1,
   "metadata": {},
   "outputs": [],
   "source": [
    "class jsonLab_readVolgacore():\n",
    "    def __init__(self):\n",
    "        self.inicio = \"inicio\"\n",
    "\n",
    "    def read(self, path):\n",
    "        #with open(f'{filename}/{filepath}', 'r') as f:\n",
    "        with open(path, 'r') as myfile:\n",
    "            cj=myfile.read()\n",
    "\n",
    "        ###inicio de proyecto a convertir\n",
    "\n",
    "        cj.parameters = cj['measurements'][0]['devices'][0]['parameters']\n",
    "        print(cj.parameters)\n",
    "        "
   ]
  }
 ]
}